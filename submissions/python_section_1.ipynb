{
 "cells": [
  {
   "cell_type": "code",
   "execution_count": 1,
   "id": "852f62aa-079b-412e-8c26-3fd7f697a9b3",
   "metadata": {},
   "outputs": [],
   "source": [
    "from typing import Dict, List\n",
    "import pandas as pd\n",
    "import re\n",
    "import polyline\n",
    "from math import radians, sin, cos, sqrt, atan2"
   ]
  },
  {
   "cell_type": "markdown",
   "id": "1be3ea0f-cc65-47f9-b34b-05677f2cb007",
   "metadata": {},
   "source": [
    "# Q1\n"
   ]
  },
  {
   "cell_type": "code",
   "execution_count": 2,
   "id": "11e8ffa3-e291-45e3-b0fd-fa7e20b19f53",
   "metadata": {},
   "outputs": [
    {
     "name": "stdout",
     "output_type": "stream",
     "text": [
      "[3, 2, 1, 6, 5, 4, 8, 7]\n",
      "[2, 1, 4, 3, 5]\n",
      "[40, 30, 20, 10, 70, 60, 50]\n"
     ]
    }
   ],
   "source": [
    "def reverse_by_n_elements(lst: List[int], n: int) -> List[int]:\n",
    "    result = []\n",
    "    for i in range(0, len(lst), n):\n",
    "        temp = []\n",
    "        for j in range(min(n, len(lst) - i)):\n",
    "            temp.insert(0, lst[i + j])\n",
    "        result.extend(temp)\n",
    "    lst[:] = result\n",
    "    return lst\n",
    "\n",
    "print(reverse_by_n_elements([1, 2, 3, 4, 5, 6, 7, 8], 3)) \n",
    "print(reverse_by_n_elements([1, 2, 3, 4, 5], 2))           \n",
    "print(reverse_by_n_elements([10, 20, 30, 40, 50, 60, 70], 4)) "
   ]
  },
  {
   "cell_type": "markdown",
   "id": "effa43c2-d227-4e44-992c-adf6c125c21c",
   "metadata": {},
   "source": [
    "# Q2"
   ]
  },
  {
   "cell_type": "code",
   "execution_count": 3,
   "id": "86a3edeb-df94-4abe-9e12-f348ce4160a0",
   "metadata": {},
   "outputs": [
    {
     "name": "stdout",
     "output_type": "stream",
     "text": [
      "{3: ['bat', 'car', 'dog'], 4: ['bear'], 5: ['apple'], 8: ['elephant']}\n",
      "{3: ['one', 'two'], 4: ['four'], 5: ['three']}\n"
     ]
    }
   ],
   "source": [
    "def group_by_length(lst: List[str]) -> Dict[int, List[str]]:\n",
    "    length_dict = {}    \n",
    "    for string in lst:\n",
    "        length = len(string)  \n",
    "        if length not in length_dict:  \n",
    "            length_dict[length] = []  \n",
    "        length_dict[length].append(string)  \n",
    "    dict = {k: length_dict[k] for k in sorted(length_dict)}  \n",
    "    return dict\n",
    "\n",
    "lst1 = [\"apple\", \"bat\", \"car\", \"elephant\", \"dog\", \"bear\"]\n",
    "lst2 = [\"one\", \"two\", \"three\", \"four\"]\n",
    "\n",
    "print(group_by_length(lst1))\n",
    "print(group_by_length(lst2))"
   ]
  },
  {
   "cell_type": "markdown",
   "id": "b6da4392-e06f-456d-af81-1427d6769cd3",
   "metadata": {},
   "source": [
    "# Q3"
   ]
  },
  {
   "cell_type": "code",
   "execution_count": 4,
   "id": "9a143f55-ed5b-4d85-a19f-96d9705ae641",
   "metadata": {},
   "outputs": [
    {
     "name": "stdout",
     "output_type": "stream",
     "text": [
      "{'road.name': 'Highway 1', 'road.length': 350, 'road.sections[0].id': 1, 'road.sections[0].condition.pavement': 'good', 'road.sections[0].condition.traffic': 'moderate'}\n"
     ]
    }
   ],
   "source": [
    "def flatten_dict(nested_dict: Dict, sep: str = '.') -> Dict:\n",
    "    dict_result = {}\n",
    "    stack = [(nested_dict, '')]\n",
    "\n",
    "    while stack:\n",
    "        curr_dict, parent_key = stack.pop()\n",
    "\n",
    "        if isinstance(curr_dict, dict):\n",
    "            for key, value in curr_dict.items():\n",
    "                new_key = f\"{parent_key}{sep}{key}\" if parent_key else key\n",
    "                if isinstance(value, dict):\n",
    "                    stack.append((value, new_key))\n",
    "                elif isinstance(value, list):\n",
    "                    for i, item in enumerate(value):\n",
    "                        stack.append((item, f\"{new_key}[{i}]\"))\n",
    "                else:\n",
    "                    dict_result[new_key] = value\n",
    "        elif isinstance(curr_dict, list):\n",
    "            for i, item in enumerate(curr_dict):\n",
    "                stack.append((item, f\"{parent_key}[{i}]\"))\n",
    "\n",
    "    return dict_result\n",
    "\n",
    "nested_dict = {\n",
    "     \"road\": {\n",
    "         \"name\": \"Highway 1\",\n",
    "         \"length\": 350,\n",
    "         \"sections\": [\n",
    "              {\n",
    "                 \"id\": 1,\n",
    "                   \"condition\": {\n",
    "                      \"pavement\": \"good\",\n",
    "                      \"traffic\": \"moderate\"\n",
    "                   }\n",
    "             }\n",
    "        ]\n",
    "     }\n",
    " }\n",
    "\n",
    "flattened_dict = flatten_dict(nested_dict)\n",
    "print(flattened_dict)"
   ]
  },
  {
   "cell_type": "markdown",
   "id": "47e103e9-dcdb-4813-b639-791e9a91f118",
   "metadata": {},
   "source": [
    "# Q4"
   ]
  },
  {
   "cell_type": "code",
   "execution_count": 5,
   "id": "1ce4d9ad-2f92-4794-8317-2f34348b996b",
   "metadata": {},
   "outputs": [
    {
     "name": "stdout",
     "output_type": "stream",
     "text": [
      "[[1, 1, 2], [1, 2, 1], [2, 1, 1]]\n"
     ]
    }
   ],
   "source": [
    "def unique_permutations(nums: List[int]) -> List[List[int]]:\n",
    "    nums.sort()\n",
    "    result = []\n",
    "    used = [False] * len(nums)\n",
    "\n",
    "    def backtrack(path):\n",
    "        if len(path) == len(nums):\n",
    "            result.append(path[:])\n",
    "            return\n",
    "        \n",
    "        for i in range(len(nums)):\n",
    "            if used[i]:\n",
    "                continue\n",
    "            if i > 0 and nums[i] == nums[i - 1] and not used[i - 1]:\n",
    "                continue\n",
    "            \n",
    "            used[i] = True\n",
    "            path.append(nums[i])\n",
    "            backtrack(path)\n",
    "            path.pop()\n",
    "            used[i] = False\n",
    "\n",
    "    backtrack([])\n",
    "    return result\n",
    "\n",
    "output = unique_permutations([1, 1, 2])\n",
    "print(output)"
   ]
  },
  {
   "cell_type": "markdown",
   "id": "5b6974b1-249c-4812-b989-fab194b7875d",
   "metadata": {},
   "source": [
    "# Q5"
   ]
  },
  {
   "cell_type": "code",
   "execution_count": 6,
   "id": "0eef7fcf-d7ab-4c7a-8533-f762c880de1e",
   "metadata": {},
   "outputs": [
    {
     "name": "stdout",
     "output_type": "stream",
     "text": [
      "['23-08-1994', '08/23/1994', '1994.08.23']\n"
     ]
    }
   ],
   "source": [
    "def find_all_dates(text: str) -> List[str]:\n",
    "    date_formats = [\n",
    "        r'\\b\\d{2}-\\d{2}-\\d{4}\\b',\n",
    "        r'\\b\\d{2}/\\d{2}/\\d{4}\\b',\n",
    "        r'\\b\\d{4}\\.\\d{2}\\.\\d{2}\\b'\n",
    "    ]\n",
    "    \n",
    "    combined_formats = '|'.join(date_formats)\n",
    "    result = re.findall(combined_formats, text)\n",
    "    \n",
    "    return result\n",
    "\n",
    "\n",
    "print(find_all_dates( \"I was born on 23-08-1994, my friend on 08/23/1994, and another one on 1994.08.23.\"))"
   ]
  },
  {
   "cell_type": "markdown",
   "id": "846af489-c945-4cfd-b233-5c97172d5537",
   "metadata": {},
   "source": [
    "# Q6"
   ]
  },
  {
   "cell_type": "code",
   "execution_count": 7,
   "id": "34ba2201-6796-4720-853c-ccdcc43cf848",
   "metadata": {},
   "outputs": [
    {
     "name": "stdout",
     "output_type": "stream",
     "text": [
      "   latitude  longitude       distance\n",
      "0    38.500   -120.200       0.000000\n",
      "1    40.700   -120.950  252924.435162\n",
      "2    43.252   -126.453  535981.434984\n"
     ]
    }
   ],
   "source": [
    "def polyline_to_dataframe(polyline_str: str) -> pd.DataFrame:\n",
    "    coords = polyline.decode(polyline_str)\n",
    "    df = pd.DataFrame(coords, columns=['latitude', 'longitude'])\n",
    "    df['distance'] = 0.0\n",
    "\n",
    "    for i in range(1, len(df)):\n",
    "        lat1, lon1 = df.loc[i-1, 'latitude'], df.loc[i-1, 'longitude']\n",
    "        lat2, lon2 = df.loc[i, 'latitude'], df.loc[i, 'longitude']\n",
    "        \n",
    "        lat1, lon1, lat2, lon2 = map(radians, [lat1, lon1, lat2, lon2])\n",
    "        dlat = lat2 - lat1\n",
    "        dlon = lon2 - lon1\n",
    "        a = sin(dlat / 2)**2 + cos(lat1) * cos(lat2) * sin(dlon / 2)**2\n",
    "        c = 2 * atan2(sqrt(a), sqrt(1 - a))\n",
    "        r = 6371000\n",
    "        df.loc[i, 'distance'] = r * c\n",
    "\n",
    "    return df\n",
    "\n",
    "\n",
    "print(polyline_to_dataframe(\"_p~iF~ps|U_ulLnnqC_mqNvxq`@\"))\n"
   ]
  },
  {
   "cell_type": "markdown",
   "id": "2127df09-d845-401e-a680-d4f8a64796de",
   "metadata": {},
   "source": [
    "# Q7"
   ]
  },
  {
   "cell_type": "code",
   "execution_count": 8,
   "id": "7bc00214-26c8-4550-a3dd-e040bc170930",
   "metadata": {},
   "outputs": [
    {
     "name": "stdout",
     "output_type": "stream",
     "text": [
      "final_matrix = [[22, 19, 16], [23, 20, 17], [24, 21, 18]]\n"
     ]
    }
   ],
   "source": [
    "def rotate_and_transform_matrix(mat: List[List[int]]) -> List[List[int]]:\n",
    "    size = len(mat)\n",
    "    rotated = [[0] * size for _ in range(size)]\n",
    "    \n",
    "    for r in range(size):\n",
    "        for c in range(size):\n",
    "            rotated[c][size-1-r] = mat[r][c]\n",
    "\n",
    "    final = [[0] * size for _ in range(size)]\n",
    "\n",
    "    for r in range(size):\n",
    "        for c in range(size):\n",
    "            row_sum = sum(rotated[r]) - rotated[r][c]\n",
    "            col_sum = sum(rotated[k][c] for k in range(size)) - rotated[r][c]\n",
    "            final[r][c] = row_sum + col_sum\n",
    "\n",
    "    return final\n",
    "\n",
    "\n",
    "matrix = [\n",
    "     [1, 2, 3],\n",
    "     [4, 5, 6],\n",
    "     [7, 8, 9]    ]\n",
    "    \n",
    "final_matrix = rotate_and_transform_matrix(matrix)\n",
    "print(f\"final_matrix = {final_matrix}\")"
   ]
  },
  {
   "cell_type": "markdown",
   "id": "e7b03ae3-25e9-4c98-ab0a-4e27a2ab9e00",
   "metadata": {},
   "source": [
    "# Q8"
   ]
  },
  {
   "cell_type": "code",
   "execution_count": 9,
   "id": "04f6f377-b546-459e-b387-c0933c710b09",
   "metadata": {},
   "outputs": [
    {
     "name": "stdout",
     "output_type": "stream",
     "text": [
      "id       id_2    \n",
      "1014000  -1          True\n",
      "1014002  -1          True\n",
      "1014003  -1          True\n",
      "1030000  -1          True\n",
      "          1030002    True\n",
      "                     ... \n",
      "1330016   1330006    True\n",
      "          1330008    True\n",
      "          1330010    True\n",
      "          1330012    True\n",
      "          1330014    True\n",
      "Length: 9254, dtype: bool\n"
     ]
    }
   ],
   "source": [
    "def time_check(df: pd.DataFrame) -> pd.Series:\n",
    "    date_format = \"%Y-%m-%d\" \n",
    "    time_format = \"%H:%M:%S\" \n",
    "\n",
    "    df['start'] = pd.to_datetime(df['startDay'] + ' ' + df['startTime'], format=f\"{date_format} {time_format}\", errors='coerce')\n",
    "    df['end'] = pd.to_datetime(df['endDay'] + ' ' + df['endTime'], format=f\"{date_format} {time_format}\", errors='coerce')\n",
    "\n",
    "    grouped = df.groupby(['id', 'id_2'])\n",
    "    results = []\n",
    "\n",
    "    starting_date = pd.Timestamp('2024-01-01')\n",
    "\n",
    "    for (id_val, id_2_val), group in grouped:\n",
    "        days_covered = set()\n",
    "\n",
    "        for day_offset in range(7):\n",
    "            day_start = starting_date + pd.Timedelta(days=day_offset)\n",
    "            day_end = day_start + pd.Timedelta(days=1) - pd.Timedelta(seconds=1)\n",
    "\n",
    "            day_data = group[(group['start'] <= day_end) & (group['end'] >= day_start)]\n",
    "            \n",
    "            if not day_data.empty and (day_data['start'].min() <= day_start) and (day_data['end'].max() >= day_end):\n",
    "                days_covered.add(day_start.date())\n",
    "\n",
    "        all_days_covered = len(days_covered) == 7\n",
    "        full_24_hour_coverage = (group['end'].max() - group['start'].min()).total_seconds() >= 24 * 3600\n",
    "\n",
    "        results.append((id_val, id_2_val, not (all_days_covered and full_24_hour_coverage)))\n",
    "\n",
    "    result_series = pd.Series({(id_val, id_2_val): incorrect for id_val, id_2_val, incorrect in results})\n",
    "    result_series.index = pd.MultiIndex.from_tuples(result_series.index, names=['id', 'id_2'])\n",
    "\n",
    "    return result_series\n",
    "\n",
    "\n",
    "df = pd.read_csv('dataset-1.csv')\n",
    "print(time_check(df))\n"
   ]
  },
  {
   "cell_type": "code",
   "execution_count": null,
   "id": "d25123e6-f82e-45ff-94c5-dcaafac43ccd",
   "metadata": {},
   "outputs": [],
   "source": []
  }
 ],
 "metadata": {
  "kernelspec": {
   "display_name": "Python 3 (ipykernel)",
   "language": "python",
   "name": "python3"
  },
  "language_info": {
   "codemirror_mode": {
    "name": "ipython",
    "version": 3
   },
   "file_extension": ".py",
   "mimetype": "text/x-python",
   "name": "python",
   "nbconvert_exporter": "python",
   "pygments_lexer": "ipython3",
   "version": "3.11.7"
  }
 },
 "nbformat": 4,
 "nbformat_minor": 5
}
